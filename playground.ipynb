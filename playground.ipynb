{
 "cells": [
  {
   "cell_type": "code",
   "execution_count": 1,
   "id": "062f51ee-ec9e-4f1d-ab8e-0f32794461b1",
   "metadata": {},
   "outputs": [],
   "source": [
    "import pypdf"
   ]
  },
  {
   "cell_type": "code",
   "execution_count": 22,
   "id": "54370e82-b7fa-417a-8ca8-a37dd10378d0",
   "metadata": {},
   "outputs": [],
   "source": [
    "from IPython.display import Markdown"
   ]
  },
  {
   "cell_type": "code",
   "execution_count": 12,
   "id": "2744db39-67bf-4ee3-8299-978c262e3168",
   "metadata": {},
   "outputs": [],
   "source": [
    "# pdfreader = pypdf.PdfReader()\n",
    "file = open('./paper3.pdf', 'rb')\n",
    "pdf = pypdf.PdfReader(file)"
   ]
  },
  {
   "cell_type": "code",
   "execution_count": 25,
   "id": "031d1e7c-2609-4504-a937-169e2ad70bc7",
   "metadata": {},
   "outputs": [],
   "source": [
    "import pandas as pd"
   ]
  },
  {
   "cell_type": "code",
   "execution_count": 64,
   "id": "ffe7232d-7ead-43f1-9b51-95905b42a77d",
   "metadata": {},
   "outputs": [
    {
     "data": {
      "text/plain": [
       "['Total Assets\\n(FY0, AUD)',\n",
       " 'Net Profit Margin',\n",
       " 'Return On Assets',\n",
       " 'Return On Equity',\n",
       " 'Total Revenue per Share\\n(FY0, AUD)',\n",
       " 'Liquidity Ten Day Volume',\n",
       " 'WACC Equity Risk Premium, (%)',\n",
       " 'Dividend Yield',\n",
       " 'Long Term Debt To Equity']"
      ]
     },
     "execution_count": 64,
     "metadata": {},
     "output_type": "execute_result"
    }
   ],
   "source": [
    "df = pd.read_excel('dataset.xlsx')\n",
    "\n",
    "# df.head(2)\n",
    "\n",
    "df1 = df.sample(frac=0.5).head(100)\n",
    "# df1.shape\n",
    "\n",
    "# df1.columns\n",
    "\n",
    "colstodrop = ['Identifier (RIC)', 'Country of Exchange']\n",
    "df1.drop(columns= colstodrop, inplace=True)\n",
    "\n",
    "missingtable = (df1.isna().sum() > 0)\n",
    "missingcols = missingtable[missingtable.values == True].index.tolist()\n",
    "missingcols"
   ]
  },
  {
   "cell_type": "code",
   "execution_count": 65,
   "id": "e2a58da2-baec-432e-816a-84cb6a9f4427",
   "metadata": {},
   "outputs": [
    {
     "data": {
      "text/html": [
       "<div>\n",
       "<style scoped>\n",
       "    .dataframe tbody tr th:only-of-type {\n",
       "        vertical-align: middle;\n",
       "    }\n",
       "\n",
       "    .dataframe tbody tr th {\n",
       "        vertical-align: top;\n",
       "    }\n",
       "\n",
       "    .dataframe thead th {\n",
       "        text-align: right;\n",
       "    }\n",
       "</style>\n",
       "<table border=\"1\" class=\"dataframe\">\n",
       "  <thead>\n",
       "    <tr style=\"text-align: right;\">\n",
       "      <th></th>\n",
       "      <th>Total Assets\\n(FY0, AUD)</th>\n",
       "      <th>Net Profit Margin</th>\n",
       "      <th>Return On Assets</th>\n",
       "      <th>Return On Equity</th>\n",
       "      <th>Total Revenue per Share\\n(FY0, AUD)</th>\n",
       "      <th>Liquidity Ten Day Volume</th>\n",
       "      <th>WACC Equity Risk Premium, (%)</th>\n",
       "      <th>Dividend Yield</th>\n",
       "      <th>Long Term Debt To Equity</th>\n",
       "    </tr>\n",
       "  </thead>\n",
       "  <tbody>\n",
       "    <tr>\n",
       "      <th>55</th>\n",
       "      <td>5.676670e+06</td>\n",
       "      <td>NaN</td>\n",
       "      <td>0.0</td>\n",
       "      <td>0.0</td>\n",
       "      <td>0.000049</td>\n",
       "      <td>NaN</td>\n",
       "      <td>0.033578</td>\n",
       "      <td>0.0</td>\n",
       "      <td>0.0</td>\n",
       "    </tr>\n",
       "    <tr>\n",
       "      <th>642</th>\n",
       "      <td>4.612045e+09</td>\n",
       "      <td>-10.19405</td>\n",
       "      <td>0.0</td>\n",
       "      <td>0.0</td>\n",
       "      <td>2.632255</td>\n",
       "      <td>4.917623e+06</td>\n",
       "      <td>0.033578</td>\n",
       "      <td>0.0</td>\n",
       "      <td>0.0</td>\n",
       "    </tr>\n",
       "  </tbody>\n",
       "</table>\n",
       "</div>"
      ],
      "text/plain": [
       "     Total Assets\\n(FY0, AUD)  Net Profit Margin  Return On Assets  \\\n",
       "55               5.676670e+06                NaN               0.0   \n",
       "642              4.612045e+09          -10.19405               0.0   \n",
       "\n",
       "     Return On Equity  Total Revenue per Share\\n(FY0, AUD)  \\\n",
       "55                0.0                             0.000049   \n",
       "642               0.0                             2.632255   \n",
       "\n",
       "     Liquidity Ten Day Volume  WACC Equity Risk Premium, (%)  Dividend Yield  \\\n",
       "55                        NaN                       0.033578             0.0   \n",
       "642              4.917623e+06                       0.033578             0.0   \n",
       "\n",
       "     Long Term Debt To Equity  \n",
       "55                        0.0  \n",
       "642                       0.0  "
      ]
     },
     "execution_count": 65,
     "metadata": {},
     "output_type": "execute_result"
    }
   ],
   "source": [
    "df1[missingcols].head(2)"
   ]
  },
  {
   "cell_type": "code",
   "execution_count": 30,
   "id": "a6509afe-be42-4891-96b4-9220c68a4caf",
   "metadata": {},
   "outputs": [],
   "source": [
    "from sklearn.compose import ColumnTransformer\n",
    "from sklearn.pipeline import Pipeline"
   ]
  },
  {
   "cell_type": "code",
   "execution_count": 69,
   "id": "611ba30c-213b-46e1-9efa-e78022dbc4fd",
   "metadata": {},
   "outputs": [],
   "source": [
    "from sklearn.preprocessing import FunctionTransformer"
   ]
  },
  {
   "cell_type": "code",
   "execution_count": 47,
   "id": "ee7d3b51-2006-4e1a-a3c8-e98dbcad37e9",
   "metadata": {},
   "outputs": [],
   "source": [
    "from sklearn.impute import SimpleImputer"
   ]
  },
  {
   "cell_type": "code",
   "execution_count": 70,
   "id": "1341e1b4-cfcf-4075-ab33-a9d67ed37460",
   "metadata": {},
   "outputs": [],
   "source": [
    "import numpy as np"
   ]
  },
  {
   "cell_type": "code",
   "execution_count": 71,
   "id": "8171a2b4-560e-44d5-b710-1a266bf6b5ce",
   "metadata": {},
   "outputs": [],
   "source": [
    "log_transfomer = FunctionTransformer(np.log, validate=False)"
   ]
  },
  {
   "cell_type": "code",
   "execution_count": 74,
   "id": "4f04b00a-cd89-495c-be17-9faf961fb901",
   "metadata": {},
   "outputs": [
    {
     "name": "stdout",
     "output_type": "stream",
     "text": [
      "<class 'pandas.core.frame.DataFrame'>\n",
      "Index: 100 entries, 55 to 643\n",
      "Data columns (total 12 columns):\n",
      " #   Column                              Non-Null Count  Dtype  \n",
      "---  ------                              --------------  -----  \n",
      " 0   Company Name                        100 non-null    object \n",
      " 1   Total Assets\n",
      "(FY0, AUD)             98 non-null     float64\n",
      " 2   GICS Sector Name                    100 non-null    object \n",
      " 3   Net Profit Margin                   4 non-null      float64\n",
      " 4   Return On Assets                    28 non-null     float64\n",
      " 5   Return On Equity                    28 non-null     float64\n",
      " 6   Total Revenue per Share\n",
      "(FY0, AUD)  84 non-null     float64\n",
      " 7   GICS Industry Name                  100 non-null    object \n",
      " 8   Liquidity Ten Day Volume            88 non-null     float64\n",
      " 9   WACC Equity Risk Premium, (%)       99 non-null     float64\n",
      " 10  Dividend Yield                      12 non-null     float64\n",
      " 11  Long Term Debt To Equity            28 non-null     float64\n",
      "dtypes: float64(9), object(3)\n",
      "memory usage: 14.2+ KB\n"
     ]
    }
   ],
   "source": [
    "df1.info()"
   ]
  },
  {
   "cell_type": "code",
   "execution_count": 86,
   "id": "32db3f1c-b429-4f51-99db-3e5d0b2a482d",
   "metadata": {},
   "outputs": [
    {
     "data": {
      "text/plain": [
       "'Australia United Mining Ltd'"
      ]
     },
     "execution_count": 86,
     "metadata": {},
     "output_type": "execute_result"
    }
   ],
   "source": [
    "df1['Company Name'].iloc[0]"
   ]
  },
  {
   "cell_type": "code",
   "execution_count": 88,
   "id": "2dffbe3f-87cb-43b8-8c27-b598a6fe556d",
   "metadata": {},
   "outputs": [
    {
     "name": "stdout",
     "output_type": "stream",
     "text": [
      "Type : <class 'str'>\n",
      "Type : <class 'numpy.float64'>\n",
      "Type : <class 'str'>\n",
      "Type : <class 'numpy.float64'>\n",
      "Type : <class 'numpy.float64'>\n",
      "Type : <class 'numpy.float64'>\n",
      "Type : <class 'numpy.float64'>\n",
      "Type : <class 'str'>\n",
      "Type : <class 'numpy.float64'>\n",
      "Type : <class 'numpy.float64'>\n",
      "Type : <class 'numpy.float64'>\n",
      "Type : <class 'numpy.float64'>\n"
     ]
    }
   ],
   "source": [
    "for c in df1.columns:\n",
    "    # print(c)\n",
    "    print(f'Type : {type(df1[c].iloc[0])}')"
   ]
  },
  {
   "cell_type": "code",
   "execution_count": 90,
   "id": "d8fc5521-8521-4f69-b148-510eb6d2a8b3",
   "metadata": {},
   "outputs": [
    {
     "data": {
      "text/plain": [
       "['Total Assets\\n(FY0, AUD)',\n",
       " 'Net Profit Margin',\n",
       " 'Return On Assets',\n",
       " 'Return On Equity',\n",
       " 'Total Revenue per Share\\n(FY0, AUD)',\n",
       " 'Liquidity Ten Day Volume',\n",
       " 'WACC Equity Risk Premium, (%)',\n",
       " 'Dividend Yield',\n",
       " 'Long Term Debt To Equity']"
      ]
     },
     "execution_count": 90,
     "metadata": {},
     "output_type": "execute_result"
    }
   ],
   "source": [
    "numcols = [col for col in df1.columns if (type(df1[col].iloc[0]) != str)]\n",
    "numcols"
   ]
  },
  {
   "cell_type": "code",
   "execution_count": 92,
   "id": "76b3c557-a4ea-429c-97e7-ff71fb35d4d6",
   "metadata": {},
   "outputs": [
    {
     "data": {
      "text/html": [
       "<div>\n",
       "<style scoped>\n",
       "    .dataframe tbody tr th:only-of-type {\n",
       "        vertical-align: middle;\n",
       "    }\n",
       "\n",
       "    .dataframe tbody tr th {\n",
       "        vertical-align: top;\n",
       "    }\n",
       "\n",
       "    .dataframe thead th {\n",
       "        text-align: right;\n",
       "    }\n",
       "</style>\n",
       "<table border=\"1\" class=\"dataframe\">\n",
       "  <thead>\n",
       "    <tr style=\"text-align: right;\">\n",
       "      <th></th>\n",
       "      <th>Total Assets\\n(FY0, AUD)</th>\n",
       "      <th>Net Profit Margin</th>\n",
       "      <th>Return On Assets</th>\n",
       "      <th>Return On Equity</th>\n",
       "      <th>Total Revenue per Share\\n(FY0, AUD)</th>\n",
       "      <th>Liquidity Ten Day Volume</th>\n",
       "      <th>WACC Equity Risk Premium, (%)</th>\n",
       "      <th>Dividend Yield</th>\n",
       "      <th>Long Term Debt To Equity</th>\n",
       "    </tr>\n",
       "  </thead>\n",
       "  <tbody>\n",
       "    <tr>\n",
       "      <th>55</th>\n",
       "      <td>5.676670e+06</td>\n",
       "      <td>NaN</td>\n",
       "      <td>0.0</td>\n",
       "      <td>0.0</td>\n",
       "      <td>0.000049</td>\n",
       "      <td>NaN</td>\n",
       "      <td>0.033578</td>\n",
       "      <td>0.0</td>\n",
       "      <td>0.0</td>\n",
       "    </tr>\n",
       "    <tr>\n",
       "      <th>642</th>\n",
       "      <td>4.612045e+09</td>\n",
       "      <td>-10.19405</td>\n",
       "      <td>0.0</td>\n",
       "      <td>0.0</td>\n",
       "      <td>2.632255</td>\n",
       "      <td>4.917623e+06</td>\n",
       "      <td>0.033578</td>\n",
       "      <td>0.0</td>\n",
       "      <td>0.0</td>\n",
       "    </tr>\n",
       "  </tbody>\n",
       "</table>\n",
       "</div>"
      ],
      "text/plain": [
       "     Total Assets\\n(FY0, AUD)  Net Profit Margin  Return On Assets  \\\n",
       "55               5.676670e+06                NaN               0.0   \n",
       "642              4.612045e+09          -10.19405               0.0   \n",
       "\n",
       "     Return On Equity  Total Revenue per Share\\n(FY0, AUD)  \\\n",
       "55                0.0                             0.000049   \n",
       "642               0.0                             2.632255   \n",
       "\n",
       "     Liquidity Ten Day Volume  WACC Equity Risk Premium, (%)  Dividend Yield  \\\n",
       "55                        NaN                       0.033578             0.0   \n",
       "642              4.917623e+06                       0.033578             0.0   \n",
       "\n",
       "     Long Term Debt To Equity  \n",
       "55                        0.0  \n",
       "642                       0.0  "
      ]
     },
     "execution_count": 92,
     "metadata": {},
     "output_type": "execute_result"
    }
   ],
   "source": [
    "df1[numcols].head(2)"
   ]
  },
  {
   "cell_type": "code",
   "execution_count": 150,
   "id": "58b761f9-1ff8-4f71-8f95-258d3cc87ece",
   "metadata": {},
   "outputs": [
    {
     "data": {
      "text/plain": [
       "['Total Assets\\n(FY0, AUD)', 'Net Profit Margin', 'Liquidity Ten Day Volume']"
      ]
     },
     "execution_count": 150,
     "metadata": {},
     "output_type": "execute_result"
    }
   ],
   "source": [
    "bigtable = df1[numcols].max() > 1e4\n",
    "bigcols = bigtable[bigtable == True].index.tolist()\n",
    "bigcols"
   ]
  },
  {
   "cell_type": "code",
   "execution_count": 143,
   "id": "0f4d5983-0db9-4eae-8c75-7e6e8e206049",
   "metadata": {},
   "outputs": [],
   "source": [
    "mset = set(missingcols)\n",
    "bset = set(bigcols)"
   ]
  },
  {
   "cell_type": "code",
   "execution_count": 152,
   "id": "18160533-62b6-4929-a635-4b646e80de18",
   "metadata": {},
   "outputs": [
    {
     "data": {
      "text/plain": [
       "['Company Name', 'GICS Sector Name', 'GICS Industry Name']"
      ]
     },
     "execution_count": 152,
     "metadata": {},
     "output_type": "execute_result"
    }
   ],
   "source": [
    "functransformer = FunctionTransformer(lambda x : 1/x, validate=False)\n",
    "numericaltransformer = ColumnTransformer([\n",
    "    ('numtransformer', SimpleImputer(strategy='mean',), missingcols),\n",
    "    # ('logtransformer', functransformer, bigcols)\n",
    "],remainder = 'passthrough')\n",
    "\n",
    "logtransformer = ColumnTransformer([\n",
    "    ('logtransformer', functransformer, bigcols)\n",
    "], remainder = 'passthrough')\n",
    "\n",
    "nonmissingcols = [col for col in df1.columns if col not in missingcols]\n",
    "nonmissingcols"
   ]
  },
  {
   "cell_type": "code",
   "execution_count": 160,
   "id": "af695572-f535-40c2-b571-63caa4f74356",
   "metadata": {},
   "outputs": [
    {
     "data": {
      "text/html": [
       "<div>\n",
       "<style scoped>\n",
       "    .dataframe tbody tr th:only-of-type {\n",
       "        vertical-align: middle;\n",
       "    }\n",
       "\n",
       "    .dataframe tbody tr th {\n",
       "        vertical-align: top;\n",
       "    }\n",
       "\n",
       "    .dataframe thead th {\n",
       "        text-align: right;\n",
       "    }\n",
       "</style>\n",
       "<table border=\"1\" class=\"dataframe\">\n",
       "  <thead>\n",
       "    <tr style=\"text-align: right;\">\n",
       "      <th></th>\n",
       "      <th>Total Assets\\n(FY0, AUD)</th>\n",
       "      <th>Net Profit Margin</th>\n",
       "      <th>Liquidity Ten Day Volume</th>\n",
       "    </tr>\n",
       "  </thead>\n",
       "  <tbody>\n",
       "    <tr>\n",
       "      <th>55</th>\n",
       "      <td>1.761596e-07</td>\n",
       "      <td>-0.000133</td>\n",
       "      <td>2.304239e-06</td>\n",
       "    </tr>\n",
       "    <tr>\n",
       "      <th>642</th>\n",
       "      <td>2.168236e-10</td>\n",
       "      <td>-0.098096</td>\n",
       "      <td>2.033503e-07</td>\n",
       "    </tr>\n",
       "  </tbody>\n",
       "</table>\n",
       "</div>"
      ],
      "text/plain": [
       "     Total Assets\\n(FY0, AUD)  Net Profit Margin  Liquidity Ten Day Volume\n",
       "55               1.761596e-07          -0.000133              2.304239e-06\n",
       "642              2.168236e-10          -0.098096              2.033503e-07"
      ]
     },
     "execution_count": 160,
     "metadata": {},
     "output_type": "execute_result"
    }
   ],
   "source": [
    "a = pd.DataFrame(numericaltransformer.fit_transform(df1[missingcols]), columns=missingcols, index = df1.index)\n",
    "b = pd.DataFrame(logtransformer.fit_transform(a[bigcols]), columns= bigcols, index = df1.index)\n",
    "b.head(2)"
   ]
  },
  {
   "cell_type": "code",
   "execution_count": 154,
   "id": "4df97f56-6822-4da1-8c74-09d3c163ad66",
   "metadata": {},
   "outputs": [
    {
     "data": {
      "text/html": [
       "<div>\n",
       "<style scoped>\n",
       "    .dataframe tbody tr th:only-of-type {\n",
       "        vertical-align: middle;\n",
       "    }\n",
       "\n",
       "    .dataframe tbody tr th {\n",
       "        vertical-align: top;\n",
       "    }\n",
       "\n",
       "    .dataframe thead th {\n",
       "        text-align: right;\n",
       "    }\n",
       "</style>\n",
       "<table border=\"1\" class=\"dataframe\">\n",
       "  <thead>\n",
       "    <tr style=\"text-align: right;\">\n",
       "      <th></th>\n",
       "      <th>Total Assets\\n(FY0, AUD)</th>\n",
       "      <th>Net Profit Margin</th>\n",
       "      <th>Return On Assets</th>\n",
       "      <th>Return On Equity</th>\n",
       "      <th>Total Revenue per Share\\n(FY0, AUD)</th>\n",
       "      <th>Liquidity Ten Day Volume</th>\n",
       "      <th>WACC Equity Risk Premium, (%)</th>\n",
       "      <th>Dividend Yield</th>\n",
       "      <th>Long Term Debt To Equity</th>\n",
       "    </tr>\n",
       "  </thead>\n",
       "  <tbody>\n",
       "    <tr>\n",
       "      <th>0</th>\n",
       "      <td>5.676670e+06</td>\n",
       "      <td>-7514.356296</td>\n",
       "      <td>0.0</td>\n",
       "      <td>0.0</td>\n",
       "      <td>0.000049</td>\n",
       "      <td>4.339828e+05</td>\n",
       "      <td>0.033578</td>\n",
       "      <td>0.0</td>\n",
       "      <td>0.0</td>\n",
       "    </tr>\n",
       "    <tr>\n",
       "      <th>1</th>\n",
       "      <td>4.612045e+09</td>\n",
       "      <td>-10.194050</td>\n",
       "      <td>0.0</td>\n",
       "      <td>0.0</td>\n",
       "      <td>2.632255</td>\n",
       "      <td>4.917623e+06</td>\n",
       "      <td>0.033578</td>\n",
       "      <td>0.0</td>\n",
       "      <td>0.0</td>\n",
       "    </tr>\n",
       "  </tbody>\n",
       "</table>\n",
       "</div>"
      ],
      "text/plain": [
       "   Total Assets\\n(FY0, AUD)  Net Profit Margin  Return On Assets  \\\n",
       "0              5.676670e+06       -7514.356296               0.0   \n",
       "1              4.612045e+09         -10.194050               0.0   \n",
       "\n",
       "   Return On Equity  Total Revenue per Share\\n(FY0, AUD)  \\\n",
       "0               0.0                             0.000049   \n",
       "1               0.0                             2.632255   \n",
       "\n",
       "   Liquidity Ten Day Volume  WACC Equity Risk Premium, (%)  Dividend Yield  \\\n",
       "0              4.339828e+05                       0.033578             0.0   \n",
       "1              4.917623e+06                       0.033578             0.0   \n",
       "\n",
       "   Long Term Debt To Equity  \n",
       "0                       0.0  \n",
       "1                       0.0  "
      ]
     },
     "execution_count": 154,
     "metadata": {},
     "output_type": "execute_result"
    }
   ],
   "source": [
    "a.head(2)"
   ]
  },
  {
   "cell_type": "code",
   "execution_count": 128,
   "id": "d23f314f-f0fe-451f-b12d-5e68331a3894",
   "metadata": {},
   "outputs": [
    {
     "data": {
      "text/plain": [
       "['Return On Assets',\n",
       " 'Dividend Yield',\n",
       " 'Return On Equity',\n",
       " 'Total Revenue per Share\\n(FY0, AUD)',\n",
       " 'Long Term Debt To Equity',\n",
       " 'WACC Equity Risk Premium, (%)']"
      ]
     },
     "execution_count": 128,
     "metadata": {},
     "output_type": "execute_result"
    }
   ],
   "source": [
    "remcols = list(mset.difference(bset))\n",
    "remcols"
   ]
  },
  {
   "cell_type": "code",
   "execution_count": 157,
   "id": "8136f313-e9d4-4cca-b271-037a0fecac4c",
   "metadata": {},
   "outputs": [
    {
     "data": {
      "text/plain": [
       "Index(['Company Name', 'Total Assets\\n(FY0, AUD)', 'GICS Sector Name',\n",
       "       'Net Profit Margin', 'Return On Assets', 'Return On Equity',\n",
       "       'Total Revenue per Share\\n(FY0, AUD)', 'GICS Industry Name',\n",
       "       'Liquidity Ten Day Volume', 'WACC Equity Risk Premium, (%)',\n",
       "       'Dividend Yield', 'Long Term Debt To Equity'],\n",
       "      dtype='object')"
      ]
     },
     "execution_count": 157,
     "metadata": {},
     "output_type": "execute_result"
    }
   ],
   "source": [
    "df1.columns"
   ]
  },
  {
   "cell_type": "code",
   "execution_count": 162,
   "id": "28897fc4-6c44-49db-a1d4-44ad34724081",
   "metadata": {},
   "outputs": [
    {
     "data": {
      "text/html": [
       "<div>\n",
       "<style scoped>\n",
       "    .dataframe tbody tr th:only-of-type {\n",
       "        vertical-align: middle;\n",
       "    }\n",
       "\n",
       "    .dataframe tbody tr th {\n",
       "        vertical-align: top;\n",
       "    }\n",
       "\n",
       "    .dataframe thead th {\n",
       "        text-align: right;\n",
       "    }\n",
       "</style>\n",
       "<table border=\"1\" class=\"dataframe\">\n",
       "  <thead>\n",
       "    <tr style=\"text-align: right;\">\n",
       "      <th></th>\n",
       "      <th>Return On Assets</th>\n",
       "      <th>Dividend Yield</th>\n",
       "      <th>Return On Equity</th>\n",
       "      <th>Total Revenue per Share\\n(FY0, AUD)</th>\n",
       "      <th>Long Term Debt To Equity</th>\n",
       "      <th>WACC Equity Risk Premium, (%)</th>\n",
       "      <th>Total Assets\\n(FY0, AUD)</th>\n",
       "      <th>Net Profit Margin</th>\n",
       "      <th>Liquidity Ten Day Volume</th>\n",
       "    </tr>\n",
       "  </thead>\n",
       "  <tbody>\n",
       "    <tr>\n",
       "      <th>55</th>\n",
       "      <td>0.000000</td>\n",
       "      <td>0.000000</td>\n",
       "      <td>0.000000</td>\n",
       "      <td>0.000049</td>\n",
       "      <td>0.000000</td>\n",
       "      <td>0.033578</td>\n",
       "      <td>1.761596e-07</td>\n",
       "      <td>-0.000133</td>\n",
       "      <td>2.304239e-06</td>\n",
       "    </tr>\n",
       "    <tr>\n",
       "      <th>642</th>\n",
       "      <td>0.000000</td>\n",
       "      <td>0.000000</td>\n",
       "      <td>0.000000</td>\n",
       "      <td>2.632255</td>\n",
       "      <td>0.000000</td>\n",
       "      <td>0.033578</td>\n",
       "      <td>2.168236e-10</td>\n",
       "      <td>-0.098096</td>\n",
       "      <td>2.033503e-07</td>\n",
       "    </tr>\n",
       "    <tr>\n",
       "      <th>654</th>\n",
       "      <td>-0.061836</td>\n",
       "      <td>0.027604</td>\n",
       "      <td>-0.873143</td>\n",
       "      <td>0.000001</td>\n",
       "      <td>0.046754</td>\n",
       "      <td>0.033578</td>\n",
       "      <td>2.541770e-08</td>\n",
       "      <td>-0.000133</td>\n",
       "      <td>2.304239e-06</td>\n",
       "    </tr>\n",
       "    <tr>\n",
       "      <th>220</th>\n",
       "      <td>-0.061836</td>\n",
       "      <td>0.000000</td>\n",
       "      <td>-0.873143</td>\n",
       "      <td>0.000939</td>\n",
       "      <td>0.046754</td>\n",
       "      <td>0.033578</td>\n",
       "      <td>5.041369e-07</td>\n",
       "      <td>-0.000133</td>\n",
       "      <td>1.866921e-05</td>\n",
       "    </tr>\n",
       "    <tr>\n",
       "      <th>727</th>\n",
       "      <td>-0.009200</td>\n",
       "      <td>0.027604</td>\n",
       "      <td>-0.009700</td>\n",
       "      <td>0.853931</td>\n",
       "      <td>0.000200</td>\n",
       "      <td>0.033578</td>\n",
       "      <td>1.863985e-09</td>\n",
       "      <td>-0.000133</td>\n",
       "      <td>1.207728e-06</td>\n",
       "    </tr>\n",
       "    <tr>\n",
       "      <th>...</th>\n",
       "      <td>...</td>\n",
       "      <td>...</td>\n",
       "      <td>...</td>\n",
       "      <td>...</td>\n",
       "      <td>...</td>\n",
       "      <td>...</td>\n",
       "      <td>...</td>\n",
       "      <td>...</td>\n",
       "      <td>...</td>\n",
       "    </tr>\n",
       "    <tr>\n",
       "      <th>771</th>\n",
       "      <td>-0.061836</td>\n",
       "      <td>0.000000</td>\n",
       "      <td>-0.873143</td>\n",
       "      <td>0.000214</td>\n",
       "      <td>0.046754</td>\n",
       "      <td>0.033578</td>\n",
       "      <td>4.354875e-08</td>\n",
       "      <td>-0.000133</td>\n",
       "      <td>9.627061e-06</td>\n",
       "    </tr>\n",
       "    <tr>\n",
       "      <th>583</th>\n",
       "      <td>0.000000</td>\n",
       "      <td>0.027604</td>\n",
       "      <td>0.000000</td>\n",
       "      <td>0.000040</td>\n",
       "      <td>0.000000</td>\n",
       "      <td>0.033578</td>\n",
       "      <td>1.840963e-07</td>\n",
       "      <td>-0.000133</td>\n",
       "      <td>2.329313e-06</td>\n",
       "    </tr>\n",
       "    <tr>\n",
       "      <th>576</th>\n",
       "      <td>-0.061836</td>\n",
       "      <td>0.017713</td>\n",
       "      <td>-0.873143</td>\n",
       "      <td>12.679816</td>\n",
       "      <td>0.046754</td>\n",
       "      <td>0.063560</td>\n",
       "      <td>1.492484e-10</td>\n",
       "      <td>0.057579</td>\n",
       "      <td>3.028344e-07</td>\n",
       "    </tr>\n",
       "    <tr>\n",
       "      <th>208</th>\n",
       "      <td>-0.061836</td>\n",
       "      <td>0.027604</td>\n",
       "      <td>-0.873143</td>\n",
       "      <td>0.000500</td>\n",
       "      <td>0.046754</td>\n",
       "      <td>0.033578</td>\n",
       "      <td>2.163635e-07</td>\n",
       "      <td>-0.000133</td>\n",
       "      <td>4.602577e-05</td>\n",
       "    </tr>\n",
       "    <tr>\n",
       "      <th>643</th>\n",
       "      <td>-0.061836</td>\n",
       "      <td>0.027604</td>\n",
       "      <td>-0.873143</td>\n",
       "      <td>0.000285</td>\n",
       "      <td>0.046754</td>\n",
       "      <td>0.033578</td>\n",
       "      <td>1.515117e-07</td>\n",
       "      <td>-0.000133</td>\n",
       "      <td>1.048443e-05</td>\n",
       "    </tr>\n",
       "  </tbody>\n",
       "</table>\n",
       "<p>100 rows × 9 columns</p>\n",
       "</div>"
      ],
      "text/plain": [
       "     Return On Assets  Dividend Yield  Return On Equity  \\\n",
       "55           0.000000        0.000000          0.000000   \n",
       "642          0.000000        0.000000          0.000000   \n",
       "654         -0.061836        0.027604         -0.873143   \n",
       "220         -0.061836        0.000000         -0.873143   \n",
       "727         -0.009200        0.027604         -0.009700   \n",
       "..                ...             ...               ...   \n",
       "771         -0.061836        0.000000         -0.873143   \n",
       "583          0.000000        0.027604          0.000000   \n",
       "576         -0.061836        0.017713         -0.873143   \n",
       "208         -0.061836        0.027604         -0.873143   \n",
       "643         -0.061836        0.027604         -0.873143   \n",
       "\n",
       "     Total Revenue per Share\\n(FY0, AUD)  Long Term Debt To Equity  \\\n",
       "55                              0.000049                  0.000000   \n",
       "642                             2.632255                  0.000000   \n",
       "654                             0.000001                  0.046754   \n",
       "220                             0.000939                  0.046754   \n",
       "727                             0.853931                  0.000200   \n",
       "..                                   ...                       ...   \n",
       "771                             0.000214                  0.046754   \n",
       "583                             0.000040                  0.000000   \n",
       "576                            12.679816                  0.046754   \n",
       "208                             0.000500                  0.046754   \n",
       "643                             0.000285                  0.046754   \n",
       "\n",
       "     WACC Equity Risk Premium, (%)  Total Assets\\n(FY0, AUD)  \\\n",
       "55                        0.033578              1.761596e-07   \n",
       "642                       0.033578              2.168236e-10   \n",
       "654                       0.033578              2.541770e-08   \n",
       "220                       0.033578              5.041369e-07   \n",
       "727                       0.033578              1.863985e-09   \n",
       "..                             ...                       ...   \n",
       "771                       0.033578              4.354875e-08   \n",
       "583                       0.033578              1.840963e-07   \n",
       "576                       0.063560              1.492484e-10   \n",
       "208                       0.033578              2.163635e-07   \n",
       "643                       0.033578              1.515117e-07   \n",
       "\n",
       "     Net Profit Margin  Liquidity Ten Day Volume  \n",
       "55           -0.000133              2.304239e-06  \n",
       "642          -0.098096              2.033503e-07  \n",
       "654          -0.000133              2.304239e-06  \n",
       "220          -0.000133              1.866921e-05  \n",
       "727          -0.000133              1.207728e-06  \n",
       "..                 ...                       ...  \n",
       "771          -0.000133              9.627061e-06  \n",
       "583          -0.000133              2.329313e-06  \n",
       "576           0.057579              3.028344e-07  \n",
       "208          -0.000133              4.602577e-05  \n",
       "643          -0.000133              1.048443e-05  \n",
       "\n",
       "[100 rows x 9 columns]"
      ]
     },
     "execution_count": 162,
     "metadata": {},
     "output_type": "execute_result"
    }
   ],
   "source": [
    "a[remcols].join(b)"
   ]
  },
  {
   "cell_type": "code",
   "execution_count": 165,
   "id": "bf756905-5b55-417a-bd86-074d485b1ea6",
   "metadata": {},
   "outputs": [
    {
     "data": {
      "text/html": [
       "<div>\n",
       "<style scoped>\n",
       "    .dataframe tbody tr th:only-of-type {\n",
       "        vertical-align: middle;\n",
       "    }\n",
       "\n",
       "    .dataframe tbody tr th {\n",
       "        vertical-align: top;\n",
       "    }\n",
       "\n",
       "    .dataframe thead th {\n",
       "        text-align: right;\n",
       "    }\n",
       "</style>\n",
       "<table border=\"1\" class=\"dataframe\">\n",
       "  <thead>\n",
       "    <tr style=\"text-align: right;\">\n",
       "      <th></th>\n",
       "      <th>Company Name</th>\n",
       "      <th>GICS Sector Name</th>\n",
       "      <th>GICS Industry Name</th>\n",
       "      <th>Return On Assets</th>\n",
       "      <th>Dividend Yield</th>\n",
       "      <th>Return On Equity</th>\n",
       "      <th>Total Revenue per Share\\n(FY0, AUD)</th>\n",
       "      <th>Long Term Debt To Equity</th>\n",
       "      <th>WACC Equity Risk Premium, (%)</th>\n",
       "      <th>Total Assets\\n(FY0, AUD)</th>\n",
       "      <th>Net Profit Margin</th>\n",
       "      <th>Liquidity Ten Day Volume</th>\n",
       "    </tr>\n",
       "  </thead>\n",
       "  <tbody>\n",
       "    <tr>\n",
       "      <th>55</th>\n",
       "      <td>Australia United Mining Ltd</td>\n",
       "      <td>Materials</td>\n",
       "      <td>Metals &amp; Mining</td>\n",
       "      <td>0.0</td>\n",
       "      <td>0.0</td>\n",
       "      <td>0.0</td>\n",
       "      <td>0.000049</td>\n",
       "      <td>0.0</td>\n",
       "      <td>0.033578</td>\n",
       "      <td>1.761596e-07</td>\n",
       "      <td>-0.000133</td>\n",
       "      <td>2.304239e-06</td>\n",
       "    </tr>\n",
       "    <tr>\n",
       "      <th>642</th>\n",
       "      <td>Sandfire Resources Ltd</td>\n",
       "      <td>Materials</td>\n",
       "      <td>Metals &amp; Mining</td>\n",
       "      <td>0.0</td>\n",
       "      <td>0.0</td>\n",
       "      <td>0.0</td>\n",
       "      <td>2.632255</td>\n",
       "      <td>0.0</td>\n",
       "      <td>0.033578</td>\n",
       "      <td>2.168236e-10</td>\n",
       "      <td>-0.098096</td>\n",
       "      <td>2.033503e-07</td>\n",
       "    </tr>\n",
       "  </tbody>\n",
       "</table>\n",
       "</div>"
      ],
      "text/plain": [
       "                    Company Name GICS Sector Name GICS Industry Name  \\\n",
       "55   Australia United Mining Ltd        Materials    Metals & Mining   \n",
       "642       Sandfire Resources Ltd        Materials    Metals & Mining   \n",
       "\n",
       "     Return On Assets  Dividend Yield  Return On Equity  \\\n",
       "55                0.0             0.0               0.0   \n",
       "642               0.0             0.0               0.0   \n",
       "\n",
       "     Total Revenue per Share\\n(FY0, AUD)  Long Term Debt To Equity  \\\n",
       "55                              0.000049                       0.0   \n",
       "642                             2.632255                       0.0   \n",
       "\n",
       "     WACC Equity Risk Premium, (%)  Total Assets\\n(FY0, AUD)  \\\n",
       "55                        0.033578              1.761596e-07   \n",
       "642                       0.033578              2.168236e-10   \n",
       "\n",
       "     Net Profit Margin  Liquidity Ten Day Volume  \n",
       "55           -0.000133              2.304239e-06  \n",
       "642          -0.098096              2.033503e-07  "
      ]
     },
     "execution_count": 165,
     "metadata": {},
     "output_type": "execute_result"
    }
   ],
   "source": [
    "dffinal = df1[['Company Name', 'GICS Sector Name', 'GICS Industry Name']].join(a[remcols].join(b))\n",
    "dffinal.head(2)"
   ]
  },
  {
   "cell_type": "code",
   "execution_count": 67,
   "id": "9ab7dbc0-67ed-44fe-aacd-77d0e3f7a4b2",
   "metadata": {},
   "outputs": [
    {
     "data": {
      "text/html": [
       "<div>\n",
       "<style scoped>\n",
       "    .dataframe tbody tr th:only-of-type {\n",
       "        vertical-align: middle;\n",
       "    }\n",
       "\n",
       "    .dataframe tbody tr th {\n",
       "        vertical-align: top;\n",
       "    }\n",
       "\n",
       "    .dataframe thead th {\n",
       "        text-align: right;\n",
       "    }\n",
       "</style>\n",
       "<table border=\"1\" class=\"dataframe\">\n",
       "  <thead>\n",
       "    <tr style=\"text-align: right;\">\n",
       "      <th></th>\n",
       "      <th>Total Assets\\n(FY0, AUD)</th>\n",
       "      <th>Net Profit Margin</th>\n",
       "      <th>Return On Assets</th>\n",
       "      <th>Return On Equity</th>\n",
       "      <th>Total Revenue per Share\\n(FY0, AUD)</th>\n",
       "      <th>Liquidity Ten Day Volume</th>\n",
       "      <th>WACC Equity Risk Premium, (%)</th>\n",
       "      <th>Dividend Yield</th>\n",
       "      <th>Long Term Debt To Equity</th>\n",
       "    </tr>\n",
       "  </thead>\n",
       "  <tbody>\n",
       "    <tr>\n",
       "      <th>55</th>\n",
       "      <td>5.676670e+06</td>\n",
       "      <td>-7514.356296</td>\n",
       "      <td>0.0</td>\n",
       "      <td>0.0</td>\n",
       "      <td>0.000049</td>\n",
       "      <td>4.339828e+05</td>\n",
       "      <td>0.033578</td>\n",
       "      <td>0.0</td>\n",
       "      <td>0.0</td>\n",
       "    </tr>\n",
       "    <tr>\n",
       "      <th>642</th>\n",
       "      <td>4.612045e+09</td>\n",
       "      <td>-10.194050</td>\n",
       "      <td>0.0</td>\n",
       "      <td>0.0</td>\n",
       "      <td>2.632255</td>\n",
       "      <td>4.917623e+06</td>\n",
       "      <td>0.033578</td>\n",
       "      <td>0.0</td>\n",
       "      <td>0.0</td>\n",
       "    </tr>\n",
       "  </tbody>\n",
       "</table>\n",
       "</div>"
      ],
      "text/plain": [
       "     Total Assets\\n(FY0, AUD)  Net Profit Margin  Return On Assets  \\\n",
       "55               5.676670e+06       -7514.356296               0.0   \n",
       "642              4.612045e+09         -10.194050               0.0   \n",
       "\n",
       "     Return On Equity  Total Revenue per Share\\n(FY0, AUD)  \\\n",
       "55                0.0                             0.000049   \n",
       "642               0.0                             2.632255   \n",
       "\n",
       "     Liquidity Ten Day Volume  WACC Equity Risk Premium, (%)  Dividend Yield  \\\n",
       "55               4.339828e+05                       0.033578             0.0   \n",
       "642              4.917623e+06                       0.033578             0.0   \n",
       "\n",
       "     Long Term Debt To Equity  \n",
       "55                        0.0  \n",
       "642                       0.0  "
      ]
     },
     "execution_count": 67,
     "metadata": {},
     "output_type": "execute_result"
    }
   ],
   "source": [
    "dffinal = pd.DataFrame(numericaltransformer.fit_transform(df1[missingcols]), columns= missingcols, index = df1.index)\n",
    "# dffinal = pd.concat([df1[nonmissingcols], dffinal], axis = 1)\n",
    "dffinal.head(2)"
   ]
  },
  {
   "cell_type": "code",
   "execution_count": 166,
   "id": "fd563474-e32e-46f3-a66b-20da64a4b66a",
   "metadata": {},
   "outputs": [],
   "source": [
    "# dffinal = df1[nonmissingcols].join(dffinal,)\n",
    "# dffinal.reset_index(drop = True, inplace =True)\n",
    "\n",
    "dffinal.to_csv('./dataset.csv', index = False)"
   ]
  },
  {
   "cell_type": "code",
   "execution_count": 168,
   "id": "4abc8614-fe8f-4801-9961-ccf7a0df3b14",
   "metadata": {},
   "outputs": [],
   "source": [
    "import os"
   ]
  },
  {
   "cell_type": "code",
   "execution_count": 173,
   "id": "43817203-2756-4e15-86d6-5c57ada1bd86",
   "metadata": {},
   "outputs": [],
   "source": [
    "import pathlib"
   ]
  },
  {
   "cell_type": "code",
   "execution_count": 180,
   "id": "7989adbe-a38f-4067-beaf-9f40c85af0da",
   "metadata": {},
   "outputs": [
    {
     "data": {
      "text/plain": [
       "'what/eh'"
      ]
     },
     "execution_count": 180,
     "metadata": {},
     "output_type": "execute_result"
    }
   ],
   "source": [
    "os.path.normpath(pathlib.PurePosixPath('what/eh'))"
   ]
  },
  {
   "cell_type": "code",
   "execution_count": 176,
   "id": "e1627599-5184-412f-98a4-cc3eaa8cb878",
   "metadata": {},
   "outputs": [
    {
     "data": {
      "text/plain": [
       "'/home/auru/coding/projects/uk_projects/anne_rose_uk'"
      ]
     },
     "execution_count": 176,
     "metadata": {},
     "output_type": "execute_result"
    }
   ],
   "source": [
    "pathlib.Path(os.path.abspath('../../anne_rose_uk/anne_rose_CARE_part1.docx')).parent.as_posix()"
   ]
  },
  {
   "cell_type": "code",
   "execution_count": 8,
   "id": "877949a0-1f6c-41af-80c8-7dd6cf6786af",
   "metadata": {},
   "outputs": [],
   "source": [
    "from langchain_community.document_loaders.odt import UnstructuredODTLoader\n",
    "from langchain_community.document_loaders import DocusaurusLoader, Docx2txtLoader"
   ]
  },
  {
   "cell_type": "code",
   "execution_count": null,
   "id": "7fea82b8-fb9e-437b-871d-53715085f1cb",
   "metadata": {},
   "outputs": [],
   "source": [
    "DocusaurusLoader()"
   ]
  },
  {
   "cell_type": "code",
   "execution_count": 1,
   "id": "51d29c2d-2435-4895-afcf-49780268fe47",
   "metadata": {},
   "outputs": [],
   "source": [
    "from langchain_community.document_loaders import UnstructuredWordDocumentLoader"
   ]
  },
  {
   "cell_type": "code",
   "execution_count": 15,
   "id": "6a927512-147c-42b4-9d06-cf7d16560289",
   "metadata": {},
   "outputs": [],
   "source": [
    "l = Docx2txtLoader('../../anne_rose_uk/care_part2/Anne_Rose_CARE_Part_2_specification.docx')"
   ]
  },
  {
   "cell_type": "code",
   "execution_count": 16,
   "id": "0b62e7d4-0416-4806-8315-0e6c65f22762",
   "metadata": {
    "scrolled": true
   },
   "outputs": [
    {
     "data": {
      "text/plain": [
       "[Document(page_content='March 2024\\t\\t \\n\\nChampionships at Rare Earth (CARE) part 2 – Implementation\\n\\nThe Assignment - Part 2\\n\\n\\t\\tProduce a IntelliJ project implementing the specified CARE interface by completing tasks described below.  Your project must be capable of running correctly using the software in UH labs.\\n\\n\\t\\t\\n\\n\\t\\tYour CARE project should display the qualities associated with good program design and should: \\n\\n\\t\\tminimise code duplication & be modularised so components have low coupling and high cohesion. \\n\\n\\t\\tuse inheritance, abstract classes and interfaces, as appropriate.\\n\\n\\t\\tbe designed to be reusable and easy to maintain.\\n\\n\\t\\tbe well documented, displaying both agreed standards of internal documentation and good use of the facilities available in Javadoc.\\n\\n\\t\\t\\t\\n\\n\\t\\tThe project you submit must compile. If your project does not compile, you will not be able to perform in the demo. You must attend the demonstration session. If you do not attend your designated demonstration session, you will get ZERO marks\\n\\n\\t\\t\\n\\n\\t\\tYou have been provided with a project CARE-students which has a package cwk4, with interface CARE and some additional classes. \\n\\n\\t\\tExcept as instructed, you must NOT change interface CARE or you will be heavily penalised. \\n\\n\\t\\t\\n\\n\\t\\tYou may amend/add other classes to improve the design and ensure functionality. Any additional methods in Tournament which are not specified in interface CARE should be private\\n\\n\\t\\tNote: Implementations that do NOT modularise the project using supplier classes and inheritance, are likely to get poor marks for design, take longer to code and require more complicated coding.\\n\\n\\t\\t\\n\\n\\t\\t\\n\\n\\t\\t\\tProject Management\\n\\n\\t\\t\\tComplete this assignment by working in your team. Only one submission is required per team, BUT each team member must ensure they have a copy of the final version of the project for use in an individual demo.\\n\\n\\t\\t\\t\\t\\n\\n\\t\\t\\t\\tYour team will have to decide how to allocate roles – who will do what. However, it is essential to remember that each team member will have to attend a demo and be capable of changing/amending your code. Your team should therefore ensure that all team members get the chance to both write and test code parts of the project. It would NOT be a good idea to designate one member to be the programmer/ tester/ documenter…etc. Rather your team should be task-driven and ensure that everyone has the opportunity to perform all roles for some part of the project. It is also essential that all team members have an overview of your project design.\\n\\n\\t\\t\\t\\t\\n\\n\\t\\t\\t\\tWe expect your team to use project management s/ware We do NOT require you to use any specific s/ware packages, BUT evidence of using some package will be required as part of your submission. \\n\\n\\t\\t\\t\\tTeamwork Documentation:\\n\\n\\t\\t\\t\\tCombined into one document, for each of the following weeks commencing: 08/04, 15/04, 22/04\\n\\n\\t\\t\\t\\tCommunication: \\n\\n\\t\\t\\t\\tScreenshot at some point during the week of some communication between team members. This does not need to be extensive; just enough to show communication taking place\\n\\n\\t\\t\\t\\tKanban\\n\\n\\t\\t\\t\\tA screenshot at the start of the week of a kanban board showing task allocation/completions. As the project progresses we expect to see more and more tasks completed\\n\\n\\t\\t\\t\\tVersion Control - Repository\\n\\n\\t\\t\\t\\tA screenshot some point in the week showing team members committing contributions/or edits to the project. We expect at least one contribution to file changes from each member of the team. Emailing files to each other, or just completed files stored in one place, is NOT acceptable\\n\\n\\t\\t\\t\\t\\n\\n\\t\\t\\tTest First Development\\n\\n\\t\\t\\t\\tThe essence of \"test first development\" is that you write the tests before coding, and you then write code which produces the expected results. You would be wise to consider the test data and expected results, before you write your code. Complete a test plan (A possible first entry is shown):\\n\\n\\t\\t\\t\\tTest Plan\\n\\n\\t\\t\\t\\t\\n\\n\\t\\t\\t\\tPurpose\\n\\n\\t\\t\\t\\tTest Data\\n\\n\\t\\t\\t\\tExpected Result\\n\\n\\t\\t\\t\\tActual result\\n\\n\\t\\t\\t\\t1.\\n\\n\\t\\t\\t\\tEnter champion in team within budget\\n\\n\\t\\t\\t\\tEnter Flimsi\\n\\n\\t\\t\\t\\tFlimsi in Team, treasury = 800\\n\\n\\t\\t\\t\\t\\n\\n\\t\\t\\t\\t\\n\\n\\t\\t\\t\\t\\n\\n\\t\\t\\t\\t\\n\\n\\t\\t\\t\\t\\n\\n\\t\\t\\t\\t\\n\\n\\t\\t\\t\\tIf you find that your first attempt is not complete you can add more tests later,and complete the last column when you have implemented the code. Some tests may require a sequence of actions. \\n\\n\\n\\n\\t\\t\\tProgramming Tasks\\n\\n\\t\\t\\tTask 3.0 – Getting started\\n\\n\\t\\t\\tEdit the Teamwork class by replacing the Strings in the array with details appropriate for your team.   If you complete this incorrectly, you may receive ZERO marks.\\n\\n\\t\\t\\tDownload and save cwk4-studentsIJ.DO NOT change the code provided, but DO add to it.\\n\\n\\t\\t\\tThe interface CARE covers the functional requirements identified by use case diagrams. We have used copy/ paste/edit to add CARE methods into the Tournament class, and provided method “stubs” so Tournament compiles. However, you should first consider/code your \"back-end\" supplier classes.\\n\\n\\t\\t\\tIn Part 1, you were asked to identify useful supplier classes with suitable fields. Also, to identify opportunities for using inheritance and polymorphism. These ideas will help you to identify/code your \"back-end\" supplier classes.\\n\\n\\t\\t\\t\\n\\n\\t\\t\\t\\n\\n\\t\\t\\tTask 3.1 – Initial setup\\t`\\n\\n\\t\\t\\tFirst, code and test your \"back-end\" supplier classes. They don’t need to be complete , but you should have some of the fields, at least one constructor, and a toString() method . You can add further methods later. You can’t do anything in Tournament, or testing until this is done..\\n\\n\\t\\t\\t\\n\\n\\t\\t\\tConsider appropriate use of inheritance.\\n\\n\\t\\t\\t\\n\\n\\t\\t\\tIn Tournament, decide how to store your champions and challenges, and other game data. Consider using Java library classes. There are a number of ways to handle the collections/ maps, but what you decide will have an effect on how easy/difficult it will be to write the rest of the project. \\n\\n\\t\\t\\t\\n\\n\\t\\t\\tHaving decided on how to store champions & challenges, declare/ create appropriate fields in Tournament. Then complete the two private methods setupChampions() and setupChallenges(). These should load the champion and challenge data listed in Appendix A into your collection/map objects. These two methods should then be called in the Tournament constructor. Creating and storing the data in Appendix A should be done only in these methods. (To check if your code works use GameUI options 1 & 8, 7). \\n\\n\\n\\n\\t\\t\\tNote: data is not usually hard-coded in this way into a class of this type. For maintainability, it is more usual to read it from a data file (see later), or use a separate class….. But this will do for now. \\n\\n\\t\\t\\t\\n\\n\\t\\t\\t(This is very similar to Cwk 3)\\n\\n\\t\\t\\t\\n\\n\\t\\t\\tTask 3.2  – Producing the CARE system\\t  \\t \\n\\n\\t\\t\\tYour system should provide the functionality specified in the CARE interface, by providing implementation for the methods in the Tournament class which currently exist only as “stubs”.  \\nYou MUST NOT change interface CARE.  (Unless instructed to do so)\\n\\n\\t\\t\\tONLY methods specified in CARE interface should be public in Tournament. However, you can and should provide private methods in Tournament to improve readability & maintainability, reduce duplication or perform well-defined tasks. \\n\\n\\t\\t\\tenterChampion(), meetChallenge()carry many more marks than other methods as they provide the main functionality of the game, so do spend time on ensuring they work as speciifed\\n\\n\\t\\t\\t\\n\\n\\t\\t\\tTask 3.3 – Design \\n\\n\\t\\t\\tYour design should include appropriate lower level supplier classes to handle the detailed implementation of the system and include some appropriate robustness checks.  \\n\\n\\t\\t\\tMarks will be awarded for appropriate:  classes, use of inheritance/polymorphism, devolving functionality to lower level classes, private methods to improve readability/maintainability, low coupling, high cohesion\\n\\n\\t\\t\\tClasses, except GameUI & GameGUI should NOT output/input directly to/from the user  \\n\\n\\t\\t\\tTwo enum classes ChampionState and ChallengeType have been provided. You are not required to use these classes, but they may enhance your design and improve both readability and reusability. \\n\\n\\t\\t\\tYour classes should be documented using Javadoc standards\\n\\n\\t\\t\\t\\n\\n\\t\\t\\tTask 3.4  – Testing\\t\\n\\n\\t\\tThe code in this project is complicated to mark by inspection, so your functionality will be marked by running testing software. This software will test your implementation of the CARE interface. However, in order to implement this interface, you should add lower level supplier classes to improve design. If you just try to write everything in Tournament, the code will be horrendously complex, totally un-maintainable and so not get good marks for design. The following tools for testing are provided: \\n\\n\\t\\t\\tA command line user interface GameUI to test some of the Tournament functionality\\n\\n\\t\\t\\tThis class allows you to test your program \"at the keyboard\". However, some of the code has been omitted. To make full use of this class you will need to supply the missing code. \\n\\n\\t\\t\\t\\n\\n\\t\\t\\tThis class will ONLY test part of class Tournament. You should add the code for options 4 -7. \\n\\n\\t\\t\\tDo NOT change the provided set of options.\\n\\n\\t\\t\\t\\n\\n\\t\\t\\tYou may add some further options for your own purposes BUT there are no extra marks for this. Furthermore, you should NOT use GameUI for testing your lower level classes. If you do add further options (for your own testing purposes), comment them out before submission.\\n\\n\\t\\t\\n\\n\\t\\t\\tJUnits test suite\\n\\n\\t\\t\\tUsing GameUI is tedious/ time-consuming to use, so we have provided a  JUnit test suiteyou’re your automated regression testing. This tool does not provide a complete test of the functionality. If your code passes these tests, you are assured of some marks, but may miss marks for some features which we will certainly test during marking. \\n\\n\\t\\t\\t\\tUnzip and add the test folder to your project and ensure it works \\n\\n\\t\\t\\t\\tMost tests will initially fail, but even partially-successful tests give you information.\\n\\n\\t\\t\\t\\tThe test folder is incomplete. Add tests to the test folder to ensure your testing is complete. But remember that successful testing is about choosing representative test data to test situations, not testing every data item. Your tests should be documented so they at least state what they are intended to test and the expected results.\\n\\n\\t\\t\\t\\tNOTE: We will use our own, more extensive, JUnit testing suite to mark your code\\n\\n\\t\\t\\tTask 3.5 - Persistence\\t\\n\\n\\t\\t\\tIn the Tournament class,  implement (provide code for) methods :\\n\\n\\t\\t\\tsaveGame() to write the whole Tournament object using serialization to a file whose filename is provided by a parameter. \\n\\n\\t\\t\\tloadGame() to read, using serialization, from a file whose file name is provided by a parameter  and create a Tournament object from the data in the file.\\n\\n\\t\\t\\treadChallenges()a private method in Tournament to read data about challenges from the text file challengesAM.txt (provided).\\n\\n\\t\\t\\tProvide a second constructor in Tournament which in addition to the Vizier’s name also requires a filename as a parameters and calls readChallenges()to \"load\" information about challenges (instead of calling setupChallenges()).Champions can still be loaded by calling setupChampions(). When testing this constructor, pass it the filename  challengesAM.txt which has been provided in CARE-students\\n\\n\\t\\t\\tEnsure that challengesAM.txt contains all of the information in Appendix A on challenges; add challenges to challengesAM.txt by using a text editor , if necessary\\n\\n\\t\\t\\tsaveGame() and loadGame()are currently commented out in the CARE interface,  as well as their use in option 9/10 of GameUI. If you implement the code described above in Tournament, uncomment code in CARE interface and GameUI. \\n\\n\\n\\n\\t\\t\\t\\n\\n\\t\\t\\tTask 3.6 – Graphical User Interface – Challenge Task\\t\\n\\n\\t\\t\\tA partially completed GameGUI provides a GUI for players. Complete this class to provide the following:\\n\\n\\t\\t\\tTo the Champions menu in the provided in the menu bar, add menu items to:\\n\\n\\t\\t\\tlist the team – display the details of champions in the vizier’s team  in JTextArea listing\\n\\n\\t\\t\\tview a Champion – use suitable JOptionPane objects for input and to output the result\\n\\n\\t\\t\\tenter a Champion– use suitable JOptionPane objects for input and to output the result\\n\\n\\t\\t\\tTo the menu bar add a Challenges menu with one menu item:\\n\\n\\t\\t\\tlist all challenges– display result in JTextArea listing\\n\\n\\t\\t\\tTo the eastPanel, add the following buttons:\\n\\n\\t\\t\\tView State - display state of game in JTextArea listing\\n\\n\\t\\t\\n\\n\\t\\tNOTE: \\n\\n\\t\\t\\tThis class has just a sample of possible functionality used to demonstrate that you can code a GUI. \\n\\n\\t\\t\\tThere is NO need to ensure that GameGUI provides all of the CARE functionality\\n\\n\\t\\t\\tThere are many (and more advanced) facilities for implementing GUIs in Java; for this assignment just amend the GameGUI class provided.\\n\\n\\t\\t\\tTo get credit for this task you will need to complete an extra task at the demo\\n\\n\\t\\t\\t\\n\\n\\t\\t\\t\\n\\n\\t\\t\\tTask 3.7 – Demonstration Test  to be completed individually\\t\\n\\n\\t\\t\\tLike with Cwk 3, the main purpose of the demonstration test is to authenticate your contribution to your team project by showing that you know it well enough to use it and make changes. You should also be familiar with code you have been given as you may be asked to amend it.\\n\\n\\t\\t\\n\\n\\t\\t\\tYou will be given a written specification of the tasks to be completed for the demo test. You will have 100 mins to complete the tasks. Some tasks may ask you to code:\\n\\n\\t\\t\\tadd a new type of champion\\n\\n\\t\\t\\tadd methods/change some rules of the game\\n\\n\\t\\t\\tadd a simple Tester class\\n\\n\\t\\t\\tadd new champions or challenges\\n\\n\\t\\t\\t\\n\\n\\t\\t\\tTo get credit for Task 3.6 you will be asked to perform an extra task to amend GameGUI\\n\\n\\n\\n\\t\\t\\tYou will be asked to use your team’s submission to complete the tasks and submit your amended code to a new assignment on Studynet. Make sure you have a copy of your team’s code\\n\\n\\n\\n\\t\\t\\n\\n\\t\\t\\tTechnical Report\\n\\n\\t\\t\\tThis report should be a word-processed document of no more than about 1000 words (2 pages of A4)\\n\\n\\t\\t\\tProvide a UML diagram (BlueJ style) of your project design showing relationships between classes\\n\\n\\t\\t\\tIdentify THREE important design decisions which you team made in implementing this project.\\n\\n\\t\\t\\tFor EACH design decision:\\n\\n\\t\\t\\tState your teams design decision\\n\\n\\t\\t\\tIdentify possible alternative implementations \\n\\n\\t\\t\\tDiscuss the pros and cons of your team’s decisions with reference to these alternatives\\n\\n\\t\\t\\tExplain the reasons for your team’s final decision\\n\\n\\t\\t\\t\\n\\n\\t\\t\\t\\n\\n\\t\\t\\tSubmission Arrangements\\n\\n\\t\\t\\t\\n\\n\\t\\t\\tSubmit to Studynet by Fri 26th April    20.00 the following documents:\\n\\n\\t\\t\\tScreenshots of your team’s use of project management software in one document (see 1 above)\\n\\n\\t\\t\\tTest Plan (see 2 above)\\n\\n\\t\\t\\tA  zipped IntelliJ project which compiles and has a completed Teamwork class (see 3 above)\\n\\n\\t\\t\\tTechnical Report (see 4 above) – only one per team\\n\\n\\t\\t\\tCompleted part 2 Roles & Contributions Form\\n\\n\\t\\t\\t\\n\\n\\t\\t\\tRetain a copy of your team’s project code for the demonstration test\\n\\n\\t\\t\\t\\n\\n\\t\\t\\t Demonstration test – to be announced but likely in w/c 29th April\\n\\n\\t\\t\\tAt the end of your test session time upload  \\n\\n\\t\\t\\tYour completed demo as required by the demo specification\\n\\n\\t\\t\\tIf you do not attend your specified demonstration session, your will be given ZERO marks.  \\n\\n\\t\\t\\tStudents with a Study Needs Agreement entitled to extra time should attend the specified session\\n\\n\\t\\t\\t\\n\\n\\t\\t\\tPart 2 Marking\\n\\n\\t\\t\\n\\n\\t\\t\\tTasks\\n\\n\\t\\t\\t\\xa0\\n\\n\\t\\t\\tMax.Marks\\n\\n\\t\\t\\t1\\n\\n\\t\\t\\tProject Management\\n\\n\\t\\t\\t10\\n\\n\\t\\t\\t2\\n\\n\\t\\t\\tTest Plan\\n\\n\\t\\t\\t10\\n\\n\\t\\t\\t3.0-3.2\\n\\n\\t\\t\\tBasic functionality\\n\\n\\t\\t\\t50\\n\\n\\t\\t\\t3.3\\n\\n\\t\\t\\tDesign\\n\\n\\t\\t\\t25\\n\\n\\t\\t\\t3.4\\n\\n\\t\\t\\tTesting\\n\\n\\t\\t\\t10\\n\\n\\t\\t\\t3.3, 3.4\\n\\n\\t\\t\\tDocumentation\\n\\n\\t\\t\\t5\\n\\n\\t\\t\\t3.5\\n\\n\\t\\t\\tPersistence\\n\\n\\t\\t\\t15\\n\\n\\t\\t\\t3.6\\n\\n\\t\\t\\tGUI\\n\\n\\t\\t\\t15\\n\\n\\t\\t\\t3.7\\n\\n\\t\\t\\tDemo Test\\n\\n\\t\\t\\t20\\n\\n\\t\\t\\t4\\n\\n\\t\\t\\tReport\\n\\n\\t\\t\\t20\\n\\n\\t\\t\\t\\xa0\\n\\n\\t\\t\\tAdditions/Deductions\\n\\n\\t\\t\\t\\n\\n\\t\\t\\t\\xa0\\n\\n\\t\\t\\tTotal for part 2\\n\\n\\t\\t\\t180\\n\\n\\t\\t\\t\\n\\n\\t\\t\\tContribution to Assignment mark\\n\\n\\t\\t\\t90\\n\\n\\t\\t\\n\\n\\t\\t\\n\\n\\t\\t\\n\\n\\t\\t\\tInitially all team member get the team mark for 1-3.6 & 4. This will be modified by using the % contribution shown in the Roles & Contributions Form.\\n\\n\\t\\t\\tNo individual team member can score higher than the mark awarded for the assignment. Where a team member\\'s contribution is less than expected, only a proportion of the part 2 mark will be awarded. For a team of 4, the expectation is that each member will contribute 25%.\\n\\n\\t\\t\\n\\n\\t\\t\\tContribution \\n\\n\\t\\t\\t% of assignment mark\\n\\n\\t\\t\\t20% <= contribution <25%\\n\\n\\t\\t\\t80%\\n\\n\\t\\t\\t15% <= contribution <20%\\n\\n\\t\\t\\t60%\\n\\n\\t\\t\\t10% <= contribution <15%\\n\\n\\t\\t\\t40%\\n\\n\\t\\t\\t5% <= contribution <15%\\n\\n\\t\\t\\t20%\\n\\n\\t\\t\\t<5% contribution\\n\\n\\t\\t\\t% as listed\\n\\n\\t\\t\\n\\n\\t\\t\\tIndividual marks for part 2 will then be limited by individual performance in 3.7\\n\\n\\t\\t\\tDemonstration Mark /20\\n\\n\\t\\t\\tMax. Part 2 Mark  /90\\n\\n\\t\\t\\t 0 <= mark < 3\\n\\n\\t\\t\\t15\\n\\n\\t\\t\\t 3 <= mark < 7\\n\\n\\t\\t\\t45\\n\\n\\t\\t\\t 7 <= mark < 12\\n\\n\\t\\t\\t60\\n\\n\\t\\t\\t12 <= mark <= 20\\n\\n\\t\\t\\t90\\n\\n\\t\\t\\n\\n\\t\\tAssignment Marking\\n\\n\\t\\t\\t\\t\\n\\n\\t\\t\\tMaximum Mark for part 1\\n\\n\\t\\t\\t10\\n\\n\\t\\t\\tMaximum Mark for part 2\\n\\n\\t\\t\\t90\\n\\n\\t\\t\\tAssignment Mark\\n\\n\\t\\t\\t100\\n\\n\\t\\t\\n\\n\\t\\t\\n\\nGeneric Grading Criteria\\n\\nno merit\\n\\nclear fail\\n\\nmarginal fail\\n\\nmarginal pass\\n\\nsatisfactory \\n\\ngood\\n\\nvery good\\n\\noutstanding\\n\\nMarks\\n\\n0 - 19\\n\\n20 - 29\\n\\n30 - 39\\n\\n40 - 49\\n\\n50 - 59\\n\\n60 - 69\\n\\n70 - 79\\n\\n80 - 100\\n\\n\\n\\n\\t\\t\\tThe mark for this assignment contributes 40% of your overall module grade\\n\\n\\t\\t\\n\\n\\n\\n\\n\\n\\t\\t\\t   \\n\\n\\t\\t\\t\\t\\n\\nPage 6', metadata={'source': '../../anne_rose_uk/care_part2/Anne_Rose_CARE_Part_2_specification.docx'})]"
      ]
     },
     "execution_count": 16,
     "metadata": {},
     "output_type": "execute_result"
    }
   ],
   "source": [
    "l.load()"
   ]
  },
  {
   "cell_type": "code",
   "execution_count": 6,
   "id": "46ab53eb-9e84-42ac-882a-8320d5763efc",
   "metadata": {},
   "outputs": [],
   "source": [
    "loader = UnstructuredODTLoader('../../anne_rose_uk/care_part2/Anne_Rose_CARE_Part_2_specification.odt')"
   ]
  },
  {
   "cell_type": "code",
   "execution_count": 7,
   "id": "f6a17e9e-b12a-4cc0-bade-994ef766c09e",
   "metadata": {},
   "outputs": [
    {
     "ename": "ModuleNotFoundError",
     "evalue": "No module named 'exceptions'",
     "output_type": "error",
     "traceback": [
      "\u001b[0;31m---------------------------------------------------------------------------\u001b[0m",
      "\u001b[0;31mModuleNotFoundError\u001b[0m                       Traceback (most recent call last)",
      "Cell \u001b[0;32mIn[7], line 1\u001b[0m\n\u001b[0;32m----> 1\u001b[0m odtfile \u001b[38;5;241m=\u001b[39m \u001b[43mloader\u001b[49m\u001b[38;5;241;43m.\u001b[39;49m\u001b[43mload\u001b[49m\u001b[43m(\u001b[49m\u001b[43m)\u001b[49m\n",
      "File \u001b[0;32m~/coding/projects/uk_projects/jerin_aus/finance_audit_report_making/venv/lib/python3.9/site-packages/langchain_core/document_loaders/base.py:29\u001b[0m, in \u001b[0;36mBaseLoader.load\u001b[0;34m(self)\u001b[0m\n\u001b[1;32m     27\u001b[0m \u001b[38;5;28;01mdef\u001b[39;00m \u001b[38;5;21mload\u001b[39m(\u001b[38;5;28mself\u001b[39m) \u001b[38;5;241m-\u001b[39m\u001b[38;5;241m>\u001b[39m List[Document]:\n\u001b[1;32m     28\u001b[0m \u001b[38;5;250m    \u001b[39m\u001b[38;5;124;03m\"\"\"Load data into Document objects.\"\"\"\u001b[39;00m\n\u001b[0;32m---> 29\u001b[0m     \u001b[38;5;28;01mreturn\u001b[39;00m \u001b[38;5;28;43mlist\u001b[39;49m\u001b[43m(\u001b[49m\u001b[38;5;28;43mself\u001b[39;49m\u001b[38;5;241;43m.\u001b[39;49m\u001b[43mlazy_load\u001b[49m\u001b[43m(\u001b[49m\u001b[43m)\u001b[49m\u001b[43m)\u001b[49m\n",
      "File \u001b[0;32m~/coding/projects/uk_projects/jerin_aus/finance_audit_report_making/venv/lib/python3.9/site-packages/langchain_community/document_loaders/unstructured.py:88\u001b[0m, in \u001b[0;36mUnstructuredBaseLoader.lazy_load\u001b[0;34m(self)\u001b[0m\n\u001b[1;32m     86\u001b[0m \u001b[38;5;28;01mdef\u001b[39;00m \u001b[38;5;21mlazy_load\u001b[39m(\u001b[38;5;28mself\u001b[39m) \u001b[38;5;241m-\u001b[39m\u001b[38;5;241m>\u001b[39m Iterator[Document]:\n\u001b[1;32m     87\u001b[0m \u001b[38;5;250m    \u001b[39m\u001b[38;5;124;03m\"\"\"Load file.\"\"\"\u001b[39;00m\n\u001b[0;32m---> 88\u001b[0m     elements \u001b[38;5;241m=\u001b[39m \u001b[38;5;28;43mself\u001b[39;49m\u001b[38;5;241;43m.\u001b[39;49m\u001b[43m_get_elements\u001b[49m\u001b[43m(\u001b[49m\u001b[43m)\u001b[49m\n\u001b[1;32m     89\u001b[0m     \u001b[38;5;28mself\u001b[39m\u001b[38;5;241m.\u001b[39m_post_process_elements(elements)\n\u001b[1;32m     90\u001b[0m     \u001b[38;5;28;01mif\u001b[39;00m \u001b[38;5;28mself\u001b[39m\u001b[38;5;241m.\u001b[39mmode \u001b[38;5;241m==\u001b[39m \u001b[38;5;124m\"\u001b[39m\u001b[38;5;124melements\u001b[39m\u001b[38;5;124m\"\u001b[39m:\n",
      "File \u001b[0;32m~/coding/projects/uk_projects/jerin_aus/finance_audit_report_making/venv/lib/python3.9/site-packages/langchain_community/document_loaders/odt.py:52\u001b[0m, in \u001b[0;36mUnstructuredODTLoader._get_elements\u001b[0;34m(self)\u001b[0m\n\u001b[1;32m     51\u001b[0m \u001b[38;5;28;01mdef\u001b[39;00m \u001b[38;5;21m_get_elements\u001b[39m(\u001b[38;5;28mself\u001b[39m) \u001b[38;5;241m-\u001b[39m\u001b[38;5;241m>\u001b[39m List:\n\u001b[0;32m---> 52\u001b[0m     \u001b[38;5;28;01mfrom\u001b[39;00m \u001b[38;5;21;01munstructured\u001b[39;00m\u001b[38;5;21;01m.\u001b[39;00m\u001b[38;5;21;01mpartition\u001b[39;00m\u001b[38;5;21;01m.\u001b[39;00m\u001b[38;5;21;01modt\u001b[39;00m \u001b[38;5;28;01mimport\u001b[39;00m partition_odt\n\u001b[1;32m     54\u001b[0m     \u001b[38;5;28;01mreturn\u001b[39;00m partition_odt(filename\u001b[38;5;241m=\u001b[39m\u001b[38;5;28mself\u001b[39m\u001b[38;5;241m.\u001b[39mfile_path, \u001b[38;5;241m*\u001b[39m\u001b[38;5;241m*\u001b[39m\u001b[38;5;28mself\u001b[39m\u001b[38;5;241m.\u001b[39munstructured_kwargs)\n",
      "File \u001b[0;32m~/coding/projects/uk_projects/jerin_aus/finance_audit_report_making/venv/lib/python3.9/site-packages/unstructured/partition/odt.py:10\u001b[0m\n\u001b[1;32m      5\u001b[0m \u001b[38;5;28;01mfrom\u001b[39;00m \u001b[38;5;21;01munstructured\u001b[39;00m\u001b[38;5;21;01m.\u001b[39;00m\u001b[38;5;21;01mfile_utils\u001b[39;00m\u001b[38;5;21;01m.\u001b[39;00m\u001b[38;5;21;01mfiletype\u001b[39;00m \u001b[38;5;28;01mimport\u001b[39;00m FileType, add_metadata_with_filetype\n\u001b[1;32m      6\u001b[0m \u001b[38;5;28;01mfrom\u001b[39;00m \u001b[38;5;21;01munstructured\u001b[39;00m\u001b[38;5;21;01m.\u001b[39;00m\u001b[38;5;21;01mpartition\u001b[39;00m\u001b[38;5;21;01m.\u001b[39;00m\u001b[38;5;21;01mcommon\u001b[39;00m \u001b[38;5;28;01mimport\u001b[39;00m (\n\u001b[1;32m      7\u001b[0m     get_last_modified_date,\n\u001b[1;32m      8\u001b[0m     get_last_modified_date_from_file,\n\u001b[1;32m      9\u001b[0m )\n\u001b[0;32m---> 10\u001b[0m \u001b[38;5;28;01mfrom\u001b[39;00m \u001b[38;5;21;01munstructured\u001b[39;00m\u001b[38;5;21;01m.\u001b[39;00m\u001b[38;5;21;01mpartition\u001b[39;00m\u001b[38;5;21;01m.\u001b[39;00m\u001b[38;5;21;01mdocx\u001b[39;00m \u001b[38;5;28;01mimport\u001b[39;00m convert_and_partition_docx\n\u001b[1;32m     13\u001b[0m \u001b[38;5;129m@process_metadata\u001b[39m()\n\u001b[1;32m     14\u001b[0m \u001b[38;5;129m@add_metadata_with_filetype\u001b[39m(FileType\u001b[38;5;241m.\u001b[39mODT)\n\u001b[1;32m     15\u001b[0m \u001b[38;5;129m@add_chunking_strategy\u001b[39m\n\u001b[0;32m   (...)\u001b[0m\n\u001b[1;32m     27\u001b[0m     \u001b[38;5;241m*\u001b[39m\u001b[38;5;241m*\u001b[39mkwargs: Any,\n\u001b[1;32m     28\u001b[0m ) \u001b[38;5;241m-\u001b[39m\u001b[38;5;241m>\u001b[39m List[Element]:\n\u001b[1;32m     29\u001b[0m \u001b[38;5;250m    \u001b[39m\u001b[38;5;124;03m\"\"\"Partitions Open Office Documents in .odt format into its document elements.\u001b[39;00m\n\u001b[1;32m     30\u001b[0m \n\u001b[1;32m     31\u001b[0m \u001b[38;5;124;03m    Parameters\u001b[39;00m\n\u001b[0;32m   (...)\u001b[0m\n\u001b[1;32m     54\u001b[0m \u001b[38;5;124;03m        infer last_modified metadata from bytes, otherwise set it to None.\u001b[39;00m\n\u001b[1;32m     55\u001b[0m \u001b[38;5;124;03m    \"\"\"\u001b[39;00m\n",
      "File \u001b[0;32m~/coding/projects/uk_projects/jerin_aus/finance_audit_report_making/venv/lib/python3.9/site-packages/unstructured/partition/docx.py:25\u001b[0m\n\u001b[1;32m     11\u001b[0m \u001b[38;5;28;01mfrom\u001b[39;00m \u001b[38;5;21;01mtyping\u001b[39;00m \u001b[38;5;28;01mimport\u001b[39;00m (\n\u001b[1;32m     12\u001b[0m     IO,\n\u001b[1;32m     13\u001b[0m     Any,\n\u001b[0;32m   (...)\u001b[0m\n\u001b[1;32m     21\u001b[0m     cast,\n\u001b[1;32m     22\u001b[0m )\n\u001b[1;32m     24\u001b[0m \u001b[38;5;66;03m# -- CT_* stands for \"complex-type\", an XML element type in docx parlance --\u001b[39;00m\n\u001b[0;32m---> 25\u001b[0m \u001b[38;5;28;01mimport\u001b[39;00m \u001b[38;5;21;01mdocx\u001b[39;00m\n\u001b[1;32m     26\u001b[0m \u001b[38;5;28;01mfrom\u001b[39;00m \u001b[38;5;21;01mdocx\u001b[39;00m\u001b[38;5;21;01m.\u001b[39;00m\u001b[38;5;21;01mdocument\u001b[39;00m \u001b[38;5;28;01mimport\u001b[39;00m Document\n\u001b[1;32m     27\u001b[0m \u001b[38;5;28;01mfrom\u001b[39;00m \u001b[38;5;21;01mdocx\u001b[39;00m\u001b[38;5;21;01m.\u001b[39;00m\u001b[38;5;21;01menum\u001b[39;00m\u001b[38;5;21;01m.\u001b[39;00m\u001b[38;5;21;01msection\u001b[39;00m \u001b[38;5;28;01mimport\u001b[39;00m WD_SECTION_START\n",
      "File \u001b[0;32m~/coding/projects/uk_projects/jerin_aus/finance_audit_report_making/venv/lib/python3.9/site-packages/docx.py:30\u001b[0m\n\u001b[1;32m     27\u001b[0m \u001b[38;5;28;01mexcept\u001b[39;00m \u001b[38;5;167;01mImportError\u001b[39;00m:\n\u001b[1;32m     28\u001b[0m     TAGS \u001b[38;5;241m=\u001b[39m {}\n\u001b[0;32m---> 30\u001b[0m \u001b[38;5;28;01mfrom\u001b[39;00m \u001b[38;5;21;01mexceptions\u001b[39;00m \u001b[38;5;28;01mimport\u001b[39;00m \u001b[38;5;167;01mPendingDeprecationWarning\u001b[39;00m\n\u001b[1;32m     31\u001b[0m \u001b[38;5;28;01mfrom\u001b[39;00m \u001b[38;5;21;01mwarnings\u001b[39;00m \u001b[38;5;28;01mimport\u001b[39;00m warn\n\u001b[1;32m     33\u001b[0m \u001b[38;5;28;01mimport\u001b[39;00m \u001b[38;5;21;01mlogging\u001b[39;00m\n",
      "\u001b[0;31mModuleNotFoundError\u001b[0m: No module named 'exceptions'"
     ]
    }
   ],
   "source": [
    "odtfile = loader.load()"
   ]
  },
  {
   "cell_type": "code",
   "execution_count": null,
   "id": "8ad36e3a-dd34-4914-89c1-dd8838b2e3a1",
   "metadata": {},
   "outputs": [],
   "source": []
  },
  {
   "cell_type": "code",
   "execution_count": null,
   "id": "d121eeed-f731-4030-93a4-42c66e85af45",
   "metadata": {},
   "outputs": [],
   "source": []
  },
  {
   "cell_type": "code",
   "execution_count": null,
   "id": "1cea16ed-826e-4cc2-9145-7645fbcc77e5",
   "metadata": {},
   "outputs": [],
   "source": []
  },
  {
   "cell_type": "code",
   "execution_count": null,
   "id": "a1653934-e355-4b7d-ad79-bb96fafb9e6b",
   "metadata": {},
   "outputs": [],
   "source": []
  },
  {
   "cell_type": "code",
   "execution_count": null,
   "id": "ecac7e61-b5d0-4409-b011-959f76515347",
   "metadata": {},
   "outputs": [],
   "source": []
  }
 ],
 "metadata": {
  "kernelspec": {
   "display_name": "Python 3 (ipykernel)",
   "language": "python",
   "name": "python3"
  },
  "language_info": {
   "codemirror_mode": {
    "name": "ipython",
    "version": 3
   },
   "file_extension": ".py",
   "mimetype": "text/x-python",
   "name": "python",
   "nbconvert_exporter": "python",
   "pygments_lexer": "ipython3",
   "version": "3.9.13"
  }
 },
 "nbformat": 4,
 "nbformat_minor": 5
}
